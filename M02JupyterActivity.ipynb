{
 "cells": [
  {
   "cell_type": "code",
   "execution_count": 1,
   "id": "9cc7eea4-1c05-496b-9ef7-f6530181bb99",
   "metadata": {},
   "outputs": [
    {
     "name": "stdout",
     "output_type": "stream",
     "text": [
      "Hello, World\n"
     ]
    }
   ],
   "source": [
    "print(\"Hello, World\")"
   ]
  },
  {
   "cell_type": "code",
   "execution_count": 2,
   "id": "c4290cf9-2859-4e70-b6c2-f10a354fa9aa",
   "metadata": {},
   "outputs": [],
   "source": [
    "string = 'Samuels'"
   ]
  },
  {
   "cell_type": "code",
   "execution_count": 3,
   "id": "2455e907-9c68-4813-b488-cae7ecb42544",
   "metadata": {},
   "outputs": [
    {
     "name": "stdout",
     "output_type": "stream",
     "text": [
      "Sam\n",
      "els\n"
     ]
    }
   ],
   "source": [
    "print(string[:3])\n",
    "print(string[-3:])"
   ]
  },
  {
   "cell_type": "code",
   "execution_count": 4,
   "id": "5d5620f0-620e-44fd-978a-b207f9ce5918",
   "metadata": {},
   "outputs": [],
   "source": [
    "list3 = [-7, 69, 420]"
   ]
  },
  {
   "cell_type": "code",
   "execution_count": 5,
   "id": "946e597a-310f-46ff-987c-4a3b620865f1",
   "metadata": {},
   "outputs": [
    {
     "data": {
      "text/plain": [
       "69"
      ]
     },
     "execution_count": 5,
     "metadata": {},
     "output_type": "execute_result"
    }
   ],
   "source": [
    "list3[1]"
   ]
  },
  {
   "cell_type": "code",
   "execution_count": null,
   "id": "701aef40-d04e-42f2-b924-990f3689c642",
   "metadata": {},
   "outputs": [],
   "source": []
  }
 ],
 "metadata": {
  "kernelspec": {
   "display_name": "Python 3 (ipykernel)",
   "language": "python",
   "name": "python3"
  },
  "language_info": {
   "codemirror_mode": {
    "name": "ipython",
    "version": 3
   },
   "file_extension": ".py",
   "mimetype": "text/x-python",
   "name": "python",
   "nbconvert_exporter": "python",
   "pygments_lexer": "ipython3",
   "version": "3.12.3"
  }
 },
 "nbformat": 4,
 "nbformat_minor": 5
}
